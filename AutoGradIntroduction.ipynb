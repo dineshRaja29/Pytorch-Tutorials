{
  "nbformat": 4,
  "nbformat_minor": 0,
  "metadata": {
    "colab": {
      "name": "AutoGradIntroduction.ipynb",
      "provenance": [],
      "authorship_tag": "ABX9TyMIuHe+9wgON55Iz/E5R2C+",
      "include_colab_link": true
    },
    "kernelspec": {
      "name": "python3",
      "display_name": "Python 3"
    },
    "language_info": {
      "name": "python"
    },
    "accelerator": "GPU"
  },
  "cells": [
    {
      "cell_type": "markdown",
      "metadata": {
        "id": "view-in-github",
        "colab_type": "text"
      },
      "source": [
        "<a href=\"https://colab.research.google.com/github/dineshRaja29/Pytorch-Tutorials/blob/main/AutoGradIntroduction.ipynb\" target=\"_parent\"><img src=\"https://colab.research.google.com/assets/colab-badge.svg\" alt=\"Open In Colab\"/></a>"
      ]
    },
    {
      "cell_type": "markdown",
      "metadata": {
        "id": "5L57PwQzlybP"
      },
      "source": [
        "Autograd is PyTorch’s automatic differentiation engine that powers neural network training"
      ]
    },
    {
      "cell_type": "code",
      "metadata": {
        "id": "ea52K95pk9hv"
      },
      "source": [
        "import torch"
      ],
      "execution_count": null,
      "outputs": []
    },
    {
      "cell_type": "code",
      "metadata": {
        "colab": {
          "base_uri": "https://localhost:8080/"
        },
        "id": "QbyMCWmLl41u",
        "outputId": "92a7aaac-0c44-4c6e-d8f3-79c0107c84bd"
      },
      "source": [
        "torch.cuda.is_available()"
      ],
      "execution_count": null,
      "outputs": [
        {
          "output_type": "execute_result",
          "data": {
            "text/plain": [
              "True"
            ]
          },
          "metadata": {
            "tags": []
          },
          "execution_count": 2
        }
      ]
    },
    {
      "cell_type": "code",
      "metadata": {
        "colab": {
          "base_uri": "https://localhost:8080/"
        },
        "id": "Sw4GwAu_l-tq",
        "outputId": "8b482e7b-cf04-4f62-c2e3-f36e251c9aae"
      },
      "source": [
        "!nvidia-smi"
      ],
      "execution_count": null,
      "outputs": [
        {
          "output_type": "stream",
          "text": [
            "Fri May  7 01:22:26 2021       \n",
            "+-----------------------------------------------------------------------------+\n",
            "| NVIDIA-SMI 465.19.01    Driver Version: 460.32.03    CUDA Version: 11.2     |\n",
            "|-------------------------------+----------------------+----------------------+\n",
            "| GPU  Name        Persistence-M| Bus-Id        Disp.A | Volatile Uncorr. ECC |\n",
            "| Fan  Temp  Perf  Pwr:Usage/Cap|         Memory-Usage | GPU-Util  Compute M. |\n",
            "|                               |                      |               MIG M. |\n",
            "|===============================+======================+======================|\n",
            "|   0  Tesla T4            Off  | 00000000:00:04.0 Off |                    0 |\n",
            "| N/A   54C    P8    10W /  70W |      3MiB / 15109MiB |      0%      Default |\n",
            "|                               |                      |                  N/A |\n",
            "+-------------------------------+----------------------+----------------------+\n",
            "                                                                               \n",
            "+-----------------------------------------------------------------------------+\n",
            "| Processes:                                                                  |\n",
            "|  GPU   GI   CI        PID   Type   Process name                  GPU Memory |\n",
            "|        ID   ID                                                   Usage      |\n",
            "|=============================================================================|\n",
            "|  No running processes found                                                 |\n",
            "+-----------------------------------------------------------------------------+\n"
          ],
          "name": "stdout"
        }
      ]
    },
    {
      "cell_type": "code",
      "metadata": {
        "id": "O194V2lVmCUz"
      },
      "source": [
        "a = torch.tensor([5.], requires_grad = True)\n",
        "b = torch.tensor([6.], requires_grad = True)"
      ],
      "execution_count": null,
      "outputs": []
    },
    {
      "cell_type": "code",
      "metadata": {
        "colab": {
          "base_uri": "https://localhost:8080/"
        },
        "id": "yehjY__0mUSM",
        "outputId": "e1631f0d-5315-42ff-f37c-9e19dcff6be3"
      },
      "source": [
        "print(a, b)"
      ],
      "execution_count": null,
      "outputs": [
        {
          "output_type": "stream",
          "text": [
            "tensor([5.], requires_grad=True) tensor([6.], requires_grad=True)\n"
          ],
          "name": "stdout"
        }
      ]
    },
    {
      "cell_type": "code",
      "metadata": {
        "id": "vwR0Oh9pmY0Y"
      },
      "source": [
        "y = a**3  + b**2"
      ],
      "execution_count": null,
      "outputs": []
    },
    {
      "cell_type": "code",
      "metadata": {
        "colab": {
          "base_uri": "https://localhost:8080/"
        },
        "id": "P1-74d2Pmkwz",
        "outputId": "4646c52a-1c31-4d90-8025-9a74c7e5dc2e"
      },
      "source": [
        "y "
      ],
      "execution_count": null,
      "outputs": [
        {
          "output_type": "execute_result",
          "data": {
            "text/plain": [
              "tensor([161.], grad_fn=<AddBackward0>)"
            ]
          },
          "metadata": {
            "tags": []
          },
          "execution_count": 21
        }
      ]
    },
    {
      "cell_type": "code",
      "metadata": {
        "id": "A1axvCSam5hO"
      },
      "source": [
        "# dy/da = 3 * a**2 = 75 (here a = 5)\n",
        "# dy/db = 2 * b = 12 (here b = 6)"
      ],
      "execution_count": null,
      "outputs": []
    },
    {
      "cell_type": "code",
      "metadata": {
        "colab": {
          "base_uri": "https://localhost:8080/"
        },
        "id": "XFGRh6fHnY2_",
        "outputId": "1a3b24f3-f497-4510-f8f9-c0673f4c8f1c"
      },
      "source": [
        "print(\"a's gradient is \", a.grad)\n",
        "print(\"b's gradient is \", b.grad)"
      ],
      "execution_count": null,
      "outputs": [
        {
          "output_type": "stream",
          "text": [
            "a's gradient is  None\n",
            "b's gradient is  None\n"
          ],
          "name": "stdout"
        }
      ]
    },
    {
      "cell_type": "code",
      "metadata": {
        "id": "SDMQiy44nnjn"
      },
      "source": [
        "# computing the derivatives \n",
        "y.backward()"
      ],
      "execution_count": null,
      "outputs": []
    },
    {
      "cell_type": "code",
      "metadata": {
        "colab": {
          "base_uri": "https://localhost:8080/"
        },
        "id": "uTKKQliIoP1G",
        "outputId": "69c61626-5266-411c-9867-fa027023c8f8"
      },
      "source": [
        "print(\"a's gradient is \", a.grad)\n",
        "print(\"b's gradient is \", b.grad)"
      ],
      "execution_count": null,
      "outputs": [
        {
          "output_type": "stream",
          "text": [
            "a's gradient is  tensor([75.])\n",
            "b's gradient is  tensor([12.])\n"
          ],
          "name": "stdout"
        }
      ]
    },
    {
      "cell_type": "markdown",
      "metadata": {
        "id": "9jrWS1c2o1eD"
      },
      "source": [
        "Affine Transformation Computation"
      ]
    },
    {
      "cell_type": "code",
      "metadata": {
        "id": "lSCaIuEBo0Sx"
      },
      "source": [
        "W = torch.randn(10, 1, requires_grad = True)\n",
        "b = torch.randn(1, requires_grad = True)"
      ],
      "execution_count": null,
      "outputs": []
    },
    {
      "cell_type": "code",
      "metadata": {
        "colab": {
          "base_uri": "https://localhost:8080/"
        },
        "id": "NkK8MIoBpNfN",
        "outputId": "f512f5d1-40b4-4abf-f477-bef75cd8c8c3"
      },
      "source": [
        "print(W.shape)\n",
        "print(b.shape)"
      ],
      "execution_count": null,
      "outputs": [
        {
          "output_type": "stream",
          "text": [
            "torch.Size([10, 1])\n",
            "torch.Size([1])\n"
          ],
          "name": "stdout"
        }
      ]
    },
    {
      "cell_type": "code",
      "metadata": {
        "id": "oHcVQ2OzpRRy"
      },
      "source": [
        "# Features\n",
        "x = torch.rand(1,10)"
      ],
      "execution_count": null,
      "outputs": []
    },
    {
      "cell_type": "code",
      "metadata": {
        "id": "_UfEQz1jpm9N"
      },
      "source": [
        "output = torch.matmul(x, W) + b"
      ],
      "execution_count": null,
      "outputs": []
    },
    {
      "cell_type": "code",
      "metadata": {
        "id": "jx6aRdazp2da"
      },
      "source": [
        "loss = 1 - output"
      ],
      "execution_count": null,
      "outputs": []
    },
    {
      "cell_type": "code",
      "metadata": {
        "colab": {
          "base_uri": "https://localhost:8080/"
        },
        "id": "6p8HwSWEp67Z",
        "outputId": "c357c090-bb61-44c0-90f7-87e976ba109c"
      },
      "source": [
        "loss"
      ],
      "execution_count": null,
      "outputs": [
        {
          "output_type": "execute_result",
          "data": {
            "text/plain": [
              "tensor([[-2.0104]], grad_fn=<RsubBackward1>)"
            ]
          },
          "metadata": {
            "tags": []
          },
          "execution_count": 70
        }
      ]
    },
    {
      "cell_type": "code",
      "metadata": {
        "colab": {
          "base_uri": "https://localhost:8080/"
        },
        "id": "LDZIjc4Rp9wx",
        "outputId": "152ca273-e477-4485-b824-718bb5366d09"
      },
      "source": [
        "output"
      ],
      "execution_count": null,
      "outputs": [
        {
          "output_type": "execute_result",
          "data": {
            "text/plain": [
              "tensor([[-0.0012]], grad_fn=<AddBackward0>)"
            ]
          },
          "metadata": {
            "tags": []
          },
          "execution_count": 32
        }
      ]
    },
    {
      "cell_type": "code",
      "metadata": {
        "colab": {
          "base_uri": "https://localhost:8080/"
        },
        "id": "PqP4r6tYs3XU",
        "outputId": "a4b78e53-c15c-48e3-8c9d-ca0124be51f6"
      },
      "source": [
        "print(W.grad)\n",
        "print(b.grad)"
      ],
      "execution_count": null,
      "outputs": [
        {
          "output_type": "stream",
          "text": [
            "None\n",
            "None\n"
          ],
          "name": "stdout"
        }
      ]
    },
    {
      "cell_type": "code",
      "metadata": {
        "id": "ztCH1VGZs7mH",
        "colab": {
          "base_uri": "https://localhost:8080/"
        },
        "outputId": "e8ea126e-7220-4bfb-e244-5e32f1d477a5"
      },
      "source": [
        "print(W)\n",
        "print(b)"
      ],
      "execution_count": null,
      "outputs": [
        {
          "output_type": "stream",
          "text": [
            "tensor([[ 2.7879],\n",
            "        [ 0.4570],\n",
            "        [ 1.8832],\n",
            "        [ 0.9923],\n",
            "        [ 1.5021],\n",
            "        [-1.2023],\n",
            "        [ 0.6798],\n",
            "        [-1.3896],\n",
            "        [-0.8273],\n",
            "        [ 0.9807]], requires_grad=True)\n",
            "tensor([-1.7052], requires_grad=True)\n"
          ],
          "name": "stdout"
        }
      ]
    },
    {
      "cell_type": "code",
      "metadata": {
        "id": "q09loInPqSsS"
      },
      "source": [
        "loss.backward()"
      ],
      "execution_count": null,
      "outputs": []
    },
    {
      "cell_type": "code",
      "metadata": {
        "colab": {
          "base_uri": "https://localhost:8080/"
        },
        "id": "8qGMwHzKqUfK",
        "outputId": "307898f0-beff-4a4f-fc7a-b1641c97e353"
      },
      "source": [
        "print(W.grad)\n",
        "print(b.grad)"
      ],
      "execution_count": null,
      "outputs": [
        {
          "output_type": "stream",
          "text": [
            "tensor([[-0.4567],\n",
            "        [-0.4051],\n",
            "        [-0.7959],\n",
            "        [-0.2295],\n",
            "        [-0.9231],\n",
            "        [-0.5401],\n",
            "        [-0.4505],\n",
            "        [-0.0258],\n",
            "        [-0.0263],\n",
            "        [-0.5558]])\n",
            "tensor([-1.])\n"
          ],
          "name": "stdout"
        }
      ]
    },
    {
      "cell_type": "code",
      "metadata": {
        "colab": {
          "base_uri": "https://localhost:8080/"
        },
        "id": "dZKGdCBpqbLI",
        "outputId": "971983a0-dec9-4a0d-ca72-810e34f7df4d"
      },
      "source": [
        "print(W.grad, '\\n==\\n', W )"
      ],
      "execution_count": null,
      "outputs": [
        {
          "output_type": "stream",
          "text": [
            "tensor([[-0.4567],\n",
            "        [-0.4051],\n",
            "        [-0.7959],\n",
            "        [-0.2295],\n",
            "        [-0.9231],\n",
            "        [-0.5401],\n",
            "        [-0.4505],\n",
            "        [-0.0258],\n",
            "        [-0.0263],\n",
            "        [-0.5558]]) \n",
            "==\n",
            " tensor([[ 2.7879],\n",
            "        [ 0.4570],\n",
            "        [ 1.8832],\n",
            "        [ 0.9923],\n",
            "        [ 1.5021],\n",
            "        [-1.2023],\n",
            "        [ 0.6798],\n",
            "        [-1.3896],\n",
            "        [-0.8273],\n",
            "        [ 0.9807]], requires_grad=True)\n"
          ],
          "name": "stdout"
        }
      ]
    },
    {
      "cell_type": "code",
      "metadata": {
        "id": "cisHxZ93q8QX"
      },
      "source": [
        "learning_rate = 0.01\n",
        "with torch.no_grad():\n",
        "  W = W - learning_rate * W.grad.data"
      ],
      "execution_count": null,
      "outputs": []
    },
    {
      "cell_type": "code",
      "metadata": {
        "colab": {
          "base_uri": "https://localhost:8080/"
        },
        "id": "PgSycNcssfkt",
        "outputId": "fbde0e0c-a98e-462b-f058-a59ab1b6480c"
      },
      "source": [
        "W"
      ],
      "execution_count": null,
      "outputs": [
        {
          "output_type": "execute_result",
          "data": {
            "text/plain": [
              "tensor([[ 2.7924],\n",
              "        [ 0.4611],\n",
              "        [ 1.8912],\n",
              "        [ 0.9946],\n",
              "        [ 1.5114],\n",
              "        [-1.1969],\n",
              "        [ 0.6843],\n",
              "        [-1.3894],\n",
              "        [-0.8270],\n",
              "        [ 0.9863]])"
            ]
          },
          "metadata": {
            "tags": []
          },
          "execution_count": 78
        }
      ]
    }
  ]
}