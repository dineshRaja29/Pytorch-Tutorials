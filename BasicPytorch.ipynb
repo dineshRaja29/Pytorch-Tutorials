{
  "nbformat": 4,
  "nbformat_minor": 0,
  "metadata": {
    "colab": {
      "name": "BasicPytorch.ipynb",
      "provenance": [],
      "authorship_tag": "ABX9TyM0aK1onk/UNwMoxFjTpCHa",
      "include_colab_link": true
    },
    "kernelspec": {
      "name": "python3",
      "display_name": "Python 3"
    },
    "language_info": {
      "name": "python"
    },
    "accelerator": "GPU"
  },
  "cells": [
    {
      "cell_type": "markdown",
      "metadata": {
        "id": "view-in-github",
        "colab_type": "text"
      },
      "source": [
        "<a href=\"https://colab.research.google.com/github/dineshRaja29/Pytorch-Tutorials/blob/main/BasicPytorch.ipynb\" target=\"_parent\"><img src=\"https://colab.research.google.com/assets/colab-badge.svg\" alt=\"Open In Colab\"/></a>"
      ]
    },
    {
      "cell_type": "code",
      "metadata": {
        "id": "2SescAB17zmS"
      },
      "source": [
        "import torch \n",
        "import numpy as np"
      ],
      "execution_count": null,
      "outputs": []
    },
    {
      "cell_type": "code",
      "metadata": {
        "colab": {
          "base_uri": "https://localhost:8080/"
        },
        "id": "PJWV9Ev08YY1",
        "outputId": "c86cf491-d87b-479b-cee9-719f206eb9c5"
      },
      "source": [
        "torch.cuda.is_available()"
      ],
      "execution_count": null,
      "outputs": [
        {
          "output_type": "execute_result",
          "data": {
            "text/plain": [
              "True"
            ]
          },
          "metadata": {
            "tags": []
          },
          "execution_count": 2
        }
      ]
    },
    {
      "cell_type": "code",
      "metadata": {
        "colab": {
          "base_uri": "https://localhost:8080/"
        },
        "id": "O_IDVbVj8cWi",
        "outputId": "1b834f17-eb5d-4cad-a178-02969725463f"
      },
      "source": [
        "!nvidia-smi"
      ],
      "execution_count": null,
      "outputs": [
        {
          "output_type": "stream",
          "text": [
            "Wed May  5 03:09:04 2021       \n",
            "+-----------------------------------------------------------------------------+\n",
            "| NVIDIA-SMI 465.19.01    Driver Version: 460.32.03    CUDA Version: 11.2     |\n",
            "|-------------------------------+----------------------+----------------------+\n",
            "| GPU  Name        Persistence-M| Bus-Id        Disp.A | Volatile Uncorr. ECC |\n",
            "| Fan  Temp  Perf  Pwr:Usage/Cap|         Memory-Usage | GPU-Util  Compute M. |\n",
            "|                               |                      |               MIG M. |\n",
            "|===============================+======================+======================|\n",
            "|   0  Tesla T4            Off  | 00000000:00:04.0 Off |                    0 |\n",
            "| N/A   51C    P8    10W /  70W |      3MiB / 15109MiB |      0%      Default |\n",
            "|                               |                      |                  N/A |\n",
            "+-------------------------------+----------------------+----------------------+\n",
            "                                                                               \n",
            "+-----------------------------------------------------------------------------+\n",
            "| Processes:                                                                  |\n",
            "|  GPU   GI   CI        PID   Type   Process name                  GPU Memory |\n",
            "|        ID   ID                                                   Usage      |\n",
            "|=============================================================================|\n",
            "|  No running processes found                                                 |\n",
            "+-----------------------------------------------------------------------------+\n"
          ],
          "name": "stdout"
        }
      ]
    },
    {
      "cell_type": "code",
      "metadata": {
        "id": "rPnpAVqsHVOJ"
      },
      "source": [
        "data = [[1,2],[3,4]]"
      ],
      "execution_count": null,
      "outputs": []
    },
    {
      "cell_type": "code",
      "metadata": {
        "colab": {
          "base_uri": "https://localhost:8080/"
        },
        "id": "BeIGd3g-HanN",
        "outputId": "22e906ee-a0c4-4b07-b288-9b859d1cd4d9"
      },
      "source": [
        "np.array(data)"
      ],
      "execution_count": null,
      "outputs": [
        {
          "output_type": "execute_result",
          "data": {
            "text/plain": [
              "array([[1, 2],\n",
              "       [3, 4]])"
            ]
          },
          "metadata": {
            "tags": []
          },
          "execution_count": 5
        }
      ]
    },
    {
      "cell_type": "code",
      "metadata": {
        "colab": {
          "base_uri": "https://localhost:8080/"
        },
        "id": "W9R7aIFWHdm6",
        "outputId": "dc51e7e4-d391-4e98-8277-93668aa41705"
      },
      "source": [
        "np.asarray(data)"
      ],
      "execution_count": null,
      "outputs": [
        {
          "output_type": "execute_result",
          "data": {
            "text/plain": [
              "array([[1, 2],\n",
              "       [3, 4]])"
            ]
          },
          "metadata": {
            "tags": []
          },
          "execution_count": 6
        }
      ]
    },
    {
      "cell_type": "code",
      "metadata": {
        "id": "UgVhGd_0Hmpr"
      },
      "source": [
        "#Random numpy array\n",
        "numpy_data = np.random.rand(3,4)"
      ],
      "execution_count": null,
      "outputs": []
    },
    {
      "cell_type": "code",
      "metadata": {
        "colab": {
          "base_uri": "https://localhost:8080/"
        },
        "id": "4NJmKHi9kyMY",
        "outputId": "0b866a54-a759-4513-9d7d-ef1f07360295"
      },
      "source": [
        "torch.tensor(numpy_data)"
      ],
      "execution_count": null,
      "outputs": [
        {
          "output_type": "execute_result",
          "data": {
            "text/plain": [
              "tensor([[0.3060, 0.6919, 0.7376, 0.9899],\n",
              "        [0.7308, 0.1870, 0.7346, 0.7970],\n",
              "        [0.6855, 0.8838, 0.2334, 0.8862]], dtype=torch.float64)"
            ]
          },
          "metadata": {
            "tags": []
          },
          "execution_count": 8
        }
      ]
    },
    {
      "cell_type": "code",
      "metadata": {
        "colab": {
          "base_uri": "https://localhost:8080/"
        },
        "id": "PVXZY22tk99p",
        "outputId": "e3ec25ff-7bf8-432d-c69e-dbcda527fdd2"
      },
      "source": [
        "(torch.tensor(numpy_data).dtype)"
      ],
      "execution_count": null,
      "outputs": [
        {
          "output_type": "execute_result",
          "data": {
            "text/plain": [
              "torch.float64"
            ]
          },
          "metadata": {
            "tags": []
          },
          "execution_count": 9
        }
      ]
    },
    {
      "cell_type": "code",
      "metadata": {
        "colab": {
          "base_uri": "https://localhost:8080/"
        },
        "id": "lWZ9h0FLlHvD",
        "outputId": "1d45ec86-9c8f-4c78-a6e0-d689ea384fca"
      },
      "source": [
        "torch.from_numpy(numpy_data)"
      ],
      "execution_count": null,
      "outputs": [
        {
          "output_type": "execute_result",
          "data": {
            "text/plain": [
              "tensor([[0.3060, 0.6919, 0.7376, 0.9899],\n",
              "        [0.7308, 0.1870, 0.7346, 0.7970],\n",
              "        [0.6855, 0.8838, 0.2334, 0.8862]], dtype=torch.float64)"
            ]
          },
          "metadata": {
            "tags": []
          },
          "execution_count": 10
        }
      ]
    },
    {
      "cell_type": "code",
      "metadata": {
        "colab": {
          "base_uri": "https://localhost:8080/"
        },
        "id": "faBGQekslbgu",
        "outputId": "1af5bdc5-731d-493b-9246-4bb1736ddd11"
      },
      "source": [
        "# Alternative way to conver the numpy to torch tensor\n",
        "torch.tensor(numpy_data)\n"
      ],
      "execution_count": null,
      "outputs": [
        {
          "output_type": "execute_result",
          "data": {
            "text/plain": [
              "tensor([[0.3060, 0.6919, 0.7376, 0.9899],\n",
              "        [0.7308, 0.1870, 0.7346, 0.7970],\n",
              "        [0.6855, 0.8838, 0.2334, 0.8862]], dtype=torch.float64)"
            ]
          },
          "metadata": {
            "tags": []
          },
          "execution_count": 11
        }
      ]
    },
    {
      "cell_type": "code",
      "metadata": {
        "colab": {
          "base_uri": "https://localhost:8080/"
        },
        "id": "kLz36nx5lsiR",
        "outputId": "7f4f58e0-c4c0-4e0f-b3bd-08d2f8a72d23"
      },
      "source": [
        "torch.ones(3,4)"
      ],
      "execution_count": null,
      "outputs": [
        {
          "output_type": "execute_result",
          "data": {
            "text/plain": [
              "tensor([[1., 1., 1., 1.],\n",
              "        [1., 1., 1., 1.],\n",
              "        [1., 1., 1., 1.]])"
            ]
          },
          "metadata": {
            "tags": []
          },
          "execution_count": 12
        }
      ]
    },
    {
      "cell_type": "code",
      "metadata": {
        "colab": {
          "base_uri": "https://localhost:8080/"
        },
        "id": "wWoVo8-vlxAE",
        "outputId": "c9ece6e0-1f42-4ff3-e521-4516402cde4b"
      },
      "source": [
        "torch.zeros(3,4)"
      ],
      "execution_count": null,
      "outputs": [
        {
          "output_type": "execute_result",
          "data": {
            "text/plain": [
              "tensor([[0., 0., 0., 0.],\n",
              "        [0., 0., 0., 0.],\n",
              "        [0., 0., 0., 0.]])"
            ]
          },
          "metadata": {
            "tags": []
          },
          "execution_count": 13
        }
      ]
    },
    {
      "cell_type": "code",
      "metadata": {
        "id": "eKLzbooAl2hL"
      },
      "source": [
        "torch_tensor = torch.rand(3,4)"
      ],
      "execution_count": null,
      "outputs": []
    },
    {
      "cell_type": "code",
      "metadata": {
        "colab": {
          "base_uri": "https://localhost:8080/"
        },
        "id": "NnXjasY6l_aD",
        "outputId": "6dc418c4-4c13-46da-d528-e9d536de488d"
      },
      "source": [
        "torch_tensor.dtype"
      ],
      "execution_count": null,
      "outputs": [
        {
          "output_type": "execute_result",
          "data": {
            "text/plain": [
              "torch.float32"
            ]
          },
          "metadata": {
            "tags": []
          },
          "execution_count": 15
        }
      ]
    },
    {
      "cell_type": "code",
      "metadata": {
        "colab": {
          "base_uri": "https://localhost:8080/"
        },
        "id": "qRA_-zfZmC9G",
        "outputId": "21ad35b1-8b62-46ea-f3e6-5f1b87ef5160"
      },
      "source": [
        "torch_tensor.device"
      ],
      "execution_count": null,
      "outputs": [
        {
          "output_type": "execute_result",
          "data": {
            "text/plain": [
              "device(type='cpu')"
            ]
          },
          "metadata": {
            "tags": []
          },
          "execution_count": 16
        }
      ]
    },
    {
      "cell_type": "code",
      "metadata": {
        "colab": {
          "base_uri": "https://localhost:8080/"
        },
        "id": "-3AoxC-pmG_z",
        "outputId": "b64f7643-1779-4e8e-ce64-a6799eb21453"
      },
      "source": [
        "torch_tensor.to(\"cuda\") # not inplace"
      ],
      "execution_count": null,
      "outputs": [
        {
          "output_type": "execute_result",
          "data": {
            "text/plain": [
              "tensor([[0.2380, 0.3750, 0.8401, 0.3985],\n",
              "        [0.3492, 0.7103, 0.6271, 0.2657],\n",
              "        [0.3958, 0.1585, 0.7586, 0.5532]], device='cuda:0')"
            ]
          },
          "metadata": {
            "tags": []
          },
          "execution_count": 17
        }
      ]
    },
    {
      "cell_type": "code",
      "metadata": {
        "colab": {
          "base_uri": "https://localhost:8080/"
        },
        "id": "EBzx8fRYmOG3",
        "outputId": "3c9eb23b-4699-400c-b2f1-cb3565e71baf"
      },
      "source": [
        "torch_tensor.device "
      ],
      "execution_count": null,
      "outputs": [
        {
          "output_type": "execute_result",
          "data": {
            "text/plain": [
              "device(type='cpu')"
            ]
          },
          "metadata": {
            "tags": []
          },
          "execution_count": 18
        }
      ]
    },
    {
      "cell_type": "code",
      "metadata": {
        "id": "Yt_hBz6FmYT2"
      },
      "source": [
        "torch_tensor = torch_tensor.to(\"cuda\")"
      ],
      "execution_count": null,
      "outputs": []
    },
    {
      "cell_type": "code",
      "metadata": {
        "colab": {
          "base_uri": "https://localhost:8080/"
        },
        "id": "dW7Ylxl9mgaK",
        "outputId": "291599af-ead9-439f-f25a-1caa9f1de825"
      },
      "source": [
        "torch_tensor "
      ],
      "execution_count": null,
      "outputs": [
        {
          "output_type": "execute_result",
          "data": {
            "text/plain": [
              "tensor([[0.2380, 0.3750, 0.8401, 0.3985],\n",
              "        [0.3492, 0.7103, 0.6271, 0.2657],\n",
              "        [0.3958, 0.1585, 0.7586, 0.5532]], device='cuda:0')"
            ]
          },
          "metadata": {
            "tags": []
          },
          "execution_count": 20
        }
      ]
    },
    {
      "cell_type": "code",
      "metadata": {
        "colab": {
          "base_uri": "https://localhost:8080/"
        },
        "id": "7QkPBmqlmivj",
        "outputId": "eec828b7-0e1c-4655-80dc-2809117d642f"
      },
      "source": [
        "torch_tensor[:, 2:3]"
      ],
      "execution_count": null,
      "outputs": [
        {
          "output_type": "execute_result",
          "data": {
            "text/plain": [
              "tensor([[0.8401],\n",
              "        [0.6271],\n",
              "        [0.7586]], device='cuda:0')"
            ]
          },
          "metadata": {
            "tags": []
          },
          "execution_count": 21
        }
      ]
    },
    {
      "cell_type": "code",
      "metadata": {
        "colab": {
          "base_uri": "https://localhost:8080/"
        },
        "id": "7Q9v9tQQm0GV",
        "outputId": "040c35f9-b043-477f-952b-caf167e9ec94"
      },
      "source": [
        "torch_tensor.mul(torch_tensor)"
      ],
      "execution_count": null,
      "outputs": [
        {
          "output_type": "execute_result",
          "data": {
            "text/plain": [
              "tensor([[0.0567, 0.1407, 0.7058, 0.1588],\n",
              "        [0.1219, 0.5045, 0.3933, 0.0706],\n",
              "        [0.1566, 0.0251, 0.5755, 0.3061]], device='cuda:0')"
            ]
          },
          "metadata": {
            "tags": []
          },
          "execution_count": 22
        }
      ]
    },
    {
      "cell_type": "code",
      "metadata": {
        "colab": {
          "base_uri": "https://localhost:8080/"
        },
        "id": "pQcKnSZHm4J7",
        "outputId": "9be3d02f-3103-4061-9eb0-1cb2db3b2afc"
      },
      "source": [
        "torch_tensor * torch_tensor"
      ],
      "execution_count": null,
      "outputs": [
        {
          "output_type": "execute_result",
          "data": {
            "text/plain": [
              "tensor([[0.0567, 0.1407, 0.7058, 0.1588],\n",
              "        [0.1219, 0.5045, 0.3933, 0.0706],\n",
              "        [0.1566, 0.0251, 0.5755, 0.3061]], device='cuda:0')"
            ]
          },
          "metadata": {
            "tags": []
          },
          "execution_count": 23
        }
      ]
    },
    {
      "cell_type": "code",
      "metadata": {
        "colab": {
          "base_uri": "https://localhost:8080/"
        },
        "id": "D1uaivbJnBiG",
        "outputId": "d166149f-280d-4e2b-b476-b9f8ddd67aad"
      },
      "source": [
        "torch_tensor.matmul(torch_tensor.T)"
      ],
      "execution_count": null,
      "outputs": [
        {
          "output_type": "execute_result",
          "data": {
            "text/plain": [
              "tensor([[1.0619, 0.9822, 1.0114],\n",
              "        [0.9822, 1.0903, 0.8735],\n",
              "        [1.0114, 0.8735, 1.0633]], device='cuda:0')"
            ]
          },
          "metadata": {
            "tags": []
          },
          "execution_count": 24
        }
      ]
    },
    {
      "cell_type": "code",
      "metadata": {
        "colab": {
          "base_uri": "https://localhost:8080/"
        },
        "id": "ILs02YAInOj8",
        "outputId": "95422211-bcf9-42e7-b318-614a01233671"
      },
      "source": [
        "# Alternative way\n",
        "\n",
        "\n",
        "torch.matmul(torch_tensor, torch_tensor.T)"
      ],
      "execution_count": null,
      "outputs": [
        {
          "output_type": "execute_result",
          "data": {
            "text/plain": [
              "tensor([[1.0619, 0.9822, 1.0114],\n",
              "        [0.9822, 1.0903, 0.8735],\n",
              "        [1.0114, 0.8735, 1.0633]], device='cuda:0')"
            ]
          },
          "metadata": {
            "tags": []
          },
          "execution_count": 25
        }
      ]
    },
    {
      "cell_type": "code",
      "metadata": {
        "colab": {
          "base_uri": "https://localhost:8080/"
        },
        "id": "Xj7qusZnnirj",
        "outputId": "159030ab-9a5f-4a19-c6c0-f923f37fdcd4"
      },
      "source": [
        "# Alternative way\n",
        "\n",
        "torch_tensor @ torch_tensor.T"
      ],
      "execution_count": null,
      "outputs": [
        {
          "output_type": "execute_result",
          "data": {
            "text/plain": [
              "tensor([[1.0619, 0.9822, 1.0114],\n",
              "        [0.9822, 1.0903, 0.8735],\n",
              "        [1.0114, 0.8735, 1.0633]], device='cuda:0')"
            ]
          },
          "metadata": {
            "tags": []
          },
          "execution_count": 26
        }
      ]
    },
    {
      "cell_type": "code",
      "metadata": {
        "colab": {
          "base_uri": "https://localhost:8080/"
        },
        "id": "cYCy6SbAnluI",
        "outputId": "90fd219e-a36f-400b-8662-fd36c1b10d82"
      },
      "source": [
        "print(torch_tensor.sum())\n",
        "print(torch_tensor.max())\n",
        "print(torch_tensor.min())"
      ],
      "execution_count": null,
      "outputs": [
        {
          "output_type": "stream",
          "text": [
            "tensor(5.6700, device='cuda:0')\n",
            "tensor(0.8401, device='cuda:0')\n",
            "tensor(0.1585, device='cuda:0')\n"
          ],
          "name": "stdout"
        }
      ]
    },
    {
      "cell_type": "code",
      "metadata": {
        "colab": {
          "base_uri": "https://localhost:8080/"
        },
        "id": "ZJskQzzboSuu",
        "outputId": "5481d2e9-ab3a-43b9-86ec-7aca005cc0f5"
      },
      "source": [
        "torch.cat([torch_tensor, torch_tensor])"
      ],
      "execution_count": null,
      "outputs": [
        {
          "output_type": "execute_result",
          "data": {
            "text/plain": [
              "tensor([[0.2380, 0.3750, 0.8401, 0.3985],\n",
              "        [0.3492, 0.7103, 0.6271, 0.2657],\n",
              "        [0.3958, 0.1585, 0.7586, 0.5532],\n",
              "        [0.2380, 0.3750, 0.8401, 0.3985],\n",
              "        [0.3492, 0.7103, 0.6271, 0.2657],\n",
              "        [0.3958, 0.1585, 0.7586, 0.5532]], device='cuda:0')"
            ]
          },
          "metadata": {
            "tags": []
          },
          "execution_count": 28
        }
      ]
    },
    {
      "cell_type": "code",
      "metadata": {
        "id": "Mc2rJ6mjofnn",
        "colab": {
          "base_uri": "https://localhost:8080/"
        },
        "outputId": "e891a6db-1a66-4f04-b6ff-25ab11633ffc"
      },
      "source": [
        "torch.cat([torch_tensor, torch_tensor], axis = 1 )"
      ],
      "execution_count": null,
      "outputs": [
        {
          "output_type": "execute_result",
          "data": {
            "text/plain": [
              "tensor([[0.2380, 0.3750, 0.8401, 0.3985, 0.2380, 0.3750, 0.8401, 0.3985],\n",
              "        [0.3492, 0.7103, 0.6271, 0.2657, 0.3492, 0.7103, 0.6271, 0.2657],\n",
              "        [0.3958, 0.1585, 0.7586, 0.5532, 0.3958, 0.1585, 0.7586, 0.5532]],\n",
              "       device='cuda:0')"
            ]
          },
          "metadata": {
            "tags": []
          },
          "execution_count": 30
        }
      ]
    },
    {
      "cell_type": "code",
      "metadata": {
        "colab": {
          "base_uri": "https://localhost:8080/"
        },
        "id": "BNDjoP7ygXiK",
        "outputId": "a4bc5179-9004-4d44-e66a-936e5e2d9a9e"
      },
      "source": [
        "#Alternative is dim = 1\n",
        "torch.cat([torch_tensor, torch_tensor], dim = 1)"
      ],
      "execution_count": null,
      "outputs": [
        {
          "output_type": "execute_result",
          "data": {
            "text/plain": [
              "tensor([[0.2380, 0.3750, 0.8401, 0.3985, 0.2380, 0.3750, 0.8401, 0.3985],\n",
              "        [0.3492, 0.7103, 0.6271, 0.2657, 0.3492, 0.7103, 0.6271, 0.2657],\n",
              "        [0.3958, 0.1585, 0.7586, 0.5532, 0.3958, 0.1585, 0.7586, 0.5532]],\n",
              "       device='cuda:0')"
            ]
          },
          "metadata": {
            "tags": []
          },
          "execution_count": 32
        }
      ]
    },
    {
      "cell_type": "code",
      "metadata": {
        "colab": {
          "base_uri": "https://localhost:8080/"
        },
        "id": "7ymUCwaHga5n",
        "outputId": "3992f656-08ca-43e7-b08e-3329e346b513"
      },
      "source": [
        "torch.nn.functional.softmax(torch_tensor)"
      ],
      "execution_count": null,
      "outputs": [
        {
          "output_type": "stream",
          "text": [
            "/usr/local/lib/python3.7/dist-packages/ipykernel_launcher.py:1: UserWarning: Implicit dimension choice for softmax has been deprecated. Change the call to include dim=X as an argument.\n",
            "  \"\"\"Entry point for launching an IPython kernel.\n"
          ],
          "name": "stderr"
        },
        {
          "output_type": "execute_result",
          "data": {
            "text/plain": [
              "tensor([[0.1943, 0.2228, 0.3548, 0.2281],\n",
              "        [0.2139, 0.3069, 0.2824, 0.1968],\n",
              "        [0.2274, 0.1794, 0.3269, 0.2662]], device='cuda:0')"
            ]
          },
          "metadata": {
            "tags": []
          },
          "execution_count": 34
        }
      ]
    },
    {
      "cell_type": "code",
      "metadata": {
        "colab": {
          "base_uri": "https://localhost:8080/"
        },
        "id": "L2DCSIigg0ZC",
        "outputId": "427fbf87-3583-4a07-b7be-096ec2e33531"
      },
      "source": [
        "torch.nn.functional.softmax(torch_tensor, dim = 0)"
      ],
      "execution_count": null,
      "outputs": [
        {
          "output_type": "execute_result",
          "data": {
            "text/plain": [
              "tensor([[0.3041, 0.3122, 0.3663, 0.3286],\n",
              "        [0.3398, 0.4365, 0.2960, 0.2878],\n",
              "        [0.3561, 0.2514, 0.3376, 0.3836]], device='cuda:0')"
            ]
          },
          "metadata": {
            "tags": []
          },
          "execution_count": 38
        }
      ]
    },
    {
      "cell_type": "code",
      "metadata": {
        "colab": {
          "base_uri": "https://localhost:8080/"
        },
        "id": "i5P8CpLKhJoF",
        "outputId": "24e9a38b-3d79-4d71-c36a-5ac986019e0f"
      },
      "source": [
        "torch_tensor.shape"
      ],
      "execution_count": null,
      "outputs": [
        {
          "output_type": "execute_result",
          "data": {
            "text/plain": [
              "torch.Size([3, 4])"
            ]
          },
          "metadata": {
            "tags": []
          },
          "execution_count": 44
        }
      ]
    },
    {
      "cell_type": "code",
      "metadata": {
        "colab": {
          "base_uri": "https://localhost:8080/"
        },
        "id": "jynvFMAchbla",
        "outputId": "82b531f3-58fa-4c2d-9938-03de24553929"
      },
      "source": [
        "torch_tensor.size()"
      ],
      "execution_count": null,
      "outputs": [
        {
          "output_type": "execute_result",
          "data": {
            "text/plain": [
              "torch.Size([3, 4])"
            ]
          },
          "metadata": {
            "tags": []
          },
          "execution_count": 42
        }
      ]
    },
    {
      "cell_type": "code",
      "metadata": {
        "colab": {
          "base_uri": "https://localhost:8080/"
        },
        "id": "1QXP6PJ9hjO_",
        "outputId": "007b7f07-e4e4-41e2-e1d5-964d0a453ff4"
      },
      "source": [
        "torch_tensor.size(1)"
      ],
      "execution_count": null,
      "outputs": [
        {
          "output_type": "execute_result",
          "data": {
            "text/plain": [
              "4"
            ]
          },
          "metadata": {
            "tags": []
          },
          "execution_count": 45
        }
      ]
    },
    {
      "cell_type": "code",
      "metadata": {
        "colab": {
          "base_uri": "https://localhost:8080/"
        },
        "id": "ydQmA18BhyJS",
        "outputId": "a55ac579-f382-45f8-dc6b-d07a704ca87c"
      },
      "source": [
        "# Image dimension creation\n",
        "torch.rand(10,3,128,128)"
      ],
      "execution_count": null,
      "outputs": [
        {
          "output_type": "execute_result",
          "data": {
            "text/plain": [
              "tensor([[[[0.4971, 0.5962, 0.0571,  ..., 0.0322, 0.8934, 0.2214],\n",
              "          [0.8879, 0.0377, 0.7615,  ..., 0.3782, 0.8022, 0.4499],\n",
              "          [0.3598, 0.5198, 0.4043,  ..., 0.1457, 0.8989, 0.3394],\n",
              "          ...,\n",
              "          [0.7420, 0.5485, 0.6576,  ..., 0.6297, 0.7343, 0.3742],\n",
              "          [0.9223, 0.7391, 0.1430,  ..., 0.0036, 0.6811, 0.0370],\n",
              "          [0.3976, 0.9447, 0.9706,  ..., 0.8072, 0.6361, 0.5321]],\n",
              "\n",
              "         [[0.0220, 0.3578, 0.6086,  ..., 0.0270, 0.9571, 0.5105],\n",
              "          [0.6440, 0.9449, 0.0240,  ..., 0.2725, 0.7386, 0.4533],\n",
              "          [0.3006, 0.2337, 0.5264,  ..., 0.6468, 0.4545, 0.2624],\n",
              "          ...,\n",
              "          [0.6250, 0.6501, 0.8009,  ..., 0.1951, 0.2987, 0.1585],\n",
              "          [0.6484, 0.2208, 0.1682,  ..., 0.8462, 0.9522, 0.1883],\n",
              "          [0.4931, 0.9462, 0.2201,  ..., 0.9976, 0.7900, 0.9560]],\n",
              "\n",
              "         [[0.6345, 0.7882, 0.3472,  ..., 0.2265, 0.6195, 0.3940],\n",
              "          [0.7601, 0.1893, 0.4721,  ..., 0.8064, 0.8568, 0.7347],\n",
              "          [0.3608, 0.4621, 0.7637,  ..., 0.9794, 0.8506, 0.8676],\n",
              "          ...,\n",
              "          [0.0107, 0.0809, 0.1332,  ..., 0.0028, 0.3460, 0.9738],\n",
              "          [0.8539, 0.7672, 0.6507,  ..., 0.1541, 0.3285, 0.9679],\n",
              "          [0.5011, 0.3217, 0.8642,  ..., 0.0417, 0.3561, 0.7101]]],\n",
              "\n",
              "\n",
              "        [[[0.7823, 0.5632, 0.8268,  ..., 0.1139, 0.5880, 0.6969],\n",
              "          [0.7041, 0.2344, 0.7216,  ..., 0.8444, 0.6364, 0.8275],\n",
              "          [0.7512, 0.7650, 0.5560,  ..., 0.3311, 0.5592, 0.2659],\n",
              "          ...,\n",
              "          [0.0730, 0.3674, 0.8693,  ..., 0.8666, 0.4719, 0.6186],\n",
              "          [0.0743, 0.6612, 0.7945,  ..., 0.8067, 0.3808, 0.4186],\n",
              "          [0.3414, 0.6613, 0.5789,  ..., 0.8755, 0.9492, 0.0412]],\n",
              "\n",
              "         [[0.3716, 0.5851, 0.7017,  ..., 0.4332, 0.3927, 0.5873],\n",
              "          [0.6929, 0.4198, 0.7324,  ..., 0.2230, 0.5949, 0.7677],\n",
              "          [0.5184, 0.7726, 0.6228,  ..., 0.7149, 0.5240, 0.3615],\n",
              "          ...,\n",
              "          [0.4094, 0.1840, 0.0250,  ..., 0.0717, 0.8964, 0.1514],\n",
              "          [0.6334, 0.7787, 0.8397,  ..., 0.0195, 0.7602, 0.4714],\n",
              "          [0.6126, 0.0552, 0.0078,  ..., 0.1987, 0.0054, 0.7975]],\n",
              "\n",
              "         [[0.8463, 0.4794, 0.7042,  ..., 0.3472, 0.6480, 0.1520],\n",
              "          [0.8544, 0.5716, 0.5330,  ..., 0.0391, 0.2845, 0.5451],\n",
              "          [0.2206, 0.9405, 0.8267,  ..., 0.6809, 0.9654, 0.8736],\n",
              "          ...,\n",
              "          [0.6587, 0.5327, 0.5411,  ..., 0.1221, 0.4183, 0.9579],\n",
              "          [0.6444, 0.1129, 0.7603,  ..., 0.1803, 0.4086, 0.5460],\n",
              "          [0.4376, 0.8067, 0.1373,  ..., 0.2200, 0.5720, 0.4835]]],\n",
              "\n",
              "\n",
              "        [[[0.1813, 0.5584, 0.9664,  ..., 0.2874, 0.3396, 0.4795],\n",
              "          [0.3740, 0.3590, 0.8040,  ..., 0.9198, 0.9146, 0.8457],\n",
              "          [0.8678, 0.0839, 0.8100,  ..., 0.8388, 0.1065, 0.7770],\n",
              "          ...,\n",
              "          [0.8408, 0.4895, 0.6660,  ..., 0.2006, 0.4213, 0.9649],\n",
              "          [0.8936, 0.9339, 0.5888,  ..., 0.0138, 0.9227, 0.8851],\n",
              "          [0.3615, 0.8964, 0.0532,  ..., 0.7137, 0.1302, 0.1624]],\n",
              "\n",
              "         [[0.9449, 0.6749, 0.2835,  ..., 0.0017, 0.2191, 0.4925],\n",
              "          [0.0162, 0.0534, 0.1239,  ..., 0.5260, 0.7538, 0.2074],\n",
              "          [0.5404, 0.0253, 0.0955,  ..., 0.2473, 0.7512, 0.5978],\n",
              "          ...,\n",
              "          [0.1340, 0.4234, 0.5363,  ..., 0.3608, 0.0738, 0.3653],\n",
              "          [0.6180, 0.8576, 0.9270,  ..., 0.1845, 0.8749, 0.1526],\n",
              "          [0.7039, 0.5460, 0.9418,  ..., 0.0602, 0.1135, 0.6889]],\n",
              "\n",
              "         [[0.4030, 0.2377, 0.4056,  ..., 0.7065, 0.2612, 0.6619],\n",
              "          [0.7319, 0.8852, 0.5906,  ..., 0.4756, 0.8788, 0.0360],\n",
              "          [0.9149, 0.2690, 0.6613,  ..., 0.1963, 0.3045, 0.7728],\n",
              "          ...,\n",
              "          [0.4567, 0.6800, 0.5229,  ..., 0.6691, 0.7839, 0.1010],\n",
              "          [0.8957, 0.7488, 0.3164,  ..., 0.8106, 0.5111, 0.7029],\n",
              "          [0.1359, 0.6909, 0.2251,  ..., 0.0866, 0.5403, 0.7194]]],\n",
              "\n",
              "\n",
              "        ...,\n",
              "\n",
              "\n",
              "        [[[0.2539, 0.3489, 0.7095,  ..., 0.4169, 0.9892, 0.3498],\n",
              "          [0.4586, 0.8898, 0.7736,  ..., 0.3438, 0.5637, 0.0844],\n",
              "          [0.5651, 0.1866, 0.6777,  ..., 0.6532, 0.2681, 0.6181],\n",
              "          ...,\n",
              "          [0.6871, 0.1786, 0.8907,  ..., 0.8237, 0.7725, 0.8356],\n",
              "          [0.2821, 0.1213, 0.0625,  ..., 0.0423, 0.1192, 0.2138],\n",
              "          [0.9602, 0.6394, 0.1887,  ..., 0.6634, 0.3855, 0.7259]],\n",
              "\n",
              "         [[0.9637, 0.8953, 0.1946,  ..., 0.9545, 0.7015, 0.8027],\n",
              "          [0.9259, 0.0310, 0.7999,  ..., 0.7935, 0.1181, 0.7898],\n",
              "          [0.8532, 0.5051, 0.9862,  ..., 0.5467, 0.0230, 0.6143],\n",
              "          ...,\n",
              "          [0.7530, 0.8469, 0.7154,  ..., 0.3511, 0.5613, 0.4096],\n",
              "          [0.5096, 0.3889, 0.2330,  ..., 0.3585, 0.4349, 0.9311],\n",
              "          [0.0874, 0.2614, 0.1132,  ..., 0.3398, 0.0105, 0.3954]],\n",
              "\n",
              "         [[0.8172, 0.2029, 0.6647,  ..., 0.1878, 0.3133, 0.8142],\n",
              "          [0.3389, 0.8796, 0.2504,  ..., 0.8368, 0.3627, 0.8145],\n",
              "          [0.3944, 0.3293, 0.1284,  ..., 0.3894, 0.1226, 0.7452],\n",
              "          ...,\n",
              "          [0.6056, 0.8759, 0.1691,  ..., 0.2615, 0.0936, 0.1341],\n",
              "          [0.6880, 0.5227, 0.3058,  ..., 0.2633, 0.9245, 0.7727],\n",
              "          [0.6007, 0.7297, 0.4627,  ..., 0.2817, 0.4307, 0.2567]]],\n",
              "\n",
              "\n",
              "        [[[0.5636, 0.8471, 0.3784,  ..., 0.2385, 0.2368, 0.4283],\n",
              "          [0.2673, 0.2063, 0.6980,  ..., 0.7020, 0.6840, 0.9647],\n",
              "          [0.8242, 0.8270, 0.0083,  ..., 0.8179, 0.6890, 0.9188],\n",
              "          ...,\n",
              "          [0.9187, 0.9882, 0.9380,  ..., 0.2662, 0.6815, 0.8600],\n",
              "          [0.6116, 0.4695, 0.4274,  ..., 0.9142, 0.5025, 0.0580],\n",
              "          [0.4171, 0.1626, 0.3883,  ..., 0.4936, 0.2792, 0.1300]],\n",
              "\n",
              "         [[0.3759, 0.0838, 0.6553,  ..., 0.8882, 0.3136, 0.5122],\n",
              "          [0.8394, 0.9593, 0.3813,  ..., 0.7063, 0.9594, 0.2386],\n",
              "          [0.5280, 0.4768, 0.4456,  ..., 0.4827, 0.7824, 0.5444],\n",
              "          ...,\n",
              "          [0.3035, 0.8303, 0.2474,  ..., 0.2462, 0.0076, 0.5608],\n",
              "          [0.7265, 0.3555, 0.4602,  ..., 0.4770, 0.1517, 0.6620],\n",
              "          [0.7365, 0.2152, 0.8281,  ..., 0.9310, 0.2013, 0.1214]],\n",
              "\n",
              "         [[0.3615, 0.2864, 0.7267,  ..., 0.7806, 0.0304, 0.7998],\n",
              "          [0.3674, 0.4386, 0.9634,  ..., 0.8225, 0.1213, 0.2921],\n",
              "          [0.4780, 0.2313, 0.3995,  ..., 0.7535, 0.1570, 0.7242],\n",
              "          ...,\n",
              "          [0.6139, 0.6586, 0.9124,  ..., 0.3652, 0.3767, 0.8854],\n",
              "          [0.2948, 0.1908, 0.3893,  ..., 0.1965, 0.9391, 0.0063],\n",
              "          [0.9319, 0.6988, 0.4728,  ..., 0.0456, 0.2612, 0.5884]]],\n",
              "\n",
              "\n",
              "        [[[0.1647, 0.9317, 0.5403,  ..., 0.0925, 0.0878, 0.3907],\n",
              "          [0.7688, 0.8768, 0.1155,  ..., 0.5313, 0.4798, 0.5457],\n",
              "          [0.2190, 0.1867, 0.1112,  ..., 0.4271, 0.7757, 0.1144],\n",
              "          ...,\n",
              "          [0.2550, 0.3350, 0.4258,  ..., 0.9546, 0.7630, 0.3294],\n",
              "          [0.6535, 0.4050, 0.5260,  ..., 0.1685, 0.2604, 0.9113],\n",
              "          [0.0352, 0.1838, 0.8360,  ..., 0.2331, 0.6693, 0.8998]],\n",
              "\n",
              "         [[0.1186, 0.5947, 0.8626,  ..., 0.5543, 0.7938, 0.7738],\n",
              "          [0.0568, 0.2849, 0.2183,  ..., 0.6431, 0.1468, 0.7511],\n",
              "          [0.6280, 0.7379, 0.0273,  ..., 0.8106, 0.9534, 0.2037],\n",
              "          ...,\n",
              "          [0.9734, 0.6959, 0.4080,  ..., 0.6615, 0.3907, 0.9778],\n",
              "          [0.8330, 0.1348, 0.9294,  ..., 0.9992, 0.3731, 0.9176],\n",
              "          [0.9043, 0.1001, 0.7854,  ..., 0.0787, 0.6077, 0.2315]],\n",
              "\n",
              "         [[0.3993, 0.9181, 0.6815,  ..., 0.8065, 0.1562, 0.7341],\n",
              "          [0.9694, 0.4017, 0.7419,  ..., 0.6557, 0.6724, 0.8838],\n",
              "          [0.6971, 0.6443, 0.1033,  ..., 0.7542, 0.4156, 0.8906],\n",
              "          ...,\n",
              "          [0.3879, 0.8259, 0.5603,  ..., 0.7994, 0.6021, 0.6136],\n",
              "          [0.5120, 0.4245, 0.1953,  ..., 0.6804, 0.3941, 0.6672],\n",
              "          [0.0568, 0.0084, 0.9323,  ..., 0.2719, 0.0200, 0.0113]]]])"
            ]
          },
          "metadata": {
            "tags": []
          },
          "execution_count": 46
        }
      ]
    },
    {
      "cell_type": "code",
      "metadata": {
        "colab": {
          "base_uri": "https://localhost:8080/"
        },
        "id": "ADmix4T6h74c",
        "outputId": "f939f6e4-101b-400c-fb5a-7f7d2ce83e0b"
      },
      "source": [
        "torch.rand(10, 3, 128, 128).size()"
      ],
      "execution_count": null,
      "outputs": [
        {
          "output_type": "execute_result",
          "data": {
            "text/plain": [
              "torch.Size([10, 3, 128, 128])"
            ]
          },
          "metadata": {
            "tags": []
          },
          "execution_count": 47
        }
      ]
    },
    {
      "cell_type": "code",
      "metadata": {
        "colab": {
          "base_uri": "https://localhost:8080/"
        },
        "id": "YEcmUg_hiJbC",
        "outputId": "e754da50-3697-497c-d21f-b66ec2875522"
      },
      "source": [
        "#clipping the values\n",
        "\n",
        "torch_tensor.clip(0.2, 0.8)"
      ],
      "execution_count": null,
      "outputs": [
        {
          "output_type": "execute_result",
          "data": {
            "text/plain": [
              "tensor([[0.2380, 0.3750, 0.8000, 0.3985],\n",
              "        [0.3492, 0.7103, 0.6271, 0.2657],\n",
              "        [0.3958, 0.2000, 0.7586, 0.5532]], device='cuda:0')"
            ]
          },
          "metadata": {
            "tags": []
          },
          "execution_count": 49
        }
      ]
    },
    {
      "cell_type": "code",
      "metadata": {
        "colab": {
          "base_uri": "https://localhost:8080/"
        },
        "id": "DUIsDogPiTi7",
        "outputId": "b3256ae4-b788-4bfd-a199-b9ead94726f7"
      },
      "source": [
        "torch_tensor"
      ],
      "execution_count": null,
      "outputs": [
        {
          "output_type": "execute_result",
          "data": {
            "text/plain": [
              "tensor([[0.2380, 0.3750, 0.8401, 0.3985],\n",
              "        [0.3492, 0.7103, 0.6271, 0.2657],\n",
              "        [0.3958, 0.1585, 0.7586, 0.5532]], device='cuda:0')"
            ]
          },
          "metadata": {
            "tags": []
          },
          "execution_count": 50
        }
      ]
    },
    {
      "cell_type": "code",
      "metadata": {
        "colab": {
          "base_uri": "https://localhost:8080/"
        },
        "id": "BbbtAhHGis6E",
        "outputId": "2c890f7d-4732-4e5d-a9f5-f9fccb7a53a7"
      },
      "source": [
        "torch_tensor.cpu().detach().numpy()"
      ],
      "execution_count": null,
      "outputs": [
        {
          "output_type": "execute_result",
          "data": {
            "text/plain": [
              "array([[0.23802811, 0.37503916, 0.8401201 , 0.39847136],\n",
              "       [0.34916306, 0.7103001 , 0.6271087 , 0.26570898],\n",
              "       [0.39575607, 0.15845478, 0.7586075 , 0.55324113]], dtype=float32)"
            ]
          },
          "metadata": {
            "tags": []
          },
          "execution_count": 51
        }
      ]
    }
  ]
}