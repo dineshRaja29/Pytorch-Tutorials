{
  "nbformat": 4,
  "nbformat_minor": 0,
  "metadata": {
    "colab": {
      "name": "DatasetClassNLP.ipynb",
      "provenance": [],
      "collapsed_sections": [],
      "authorship_tag": "ABX9TyMhsOS7VgHmuLX/mZrS+26k",
      "include_colab_link": true
    },
    "kernelspec": {
      "name": "python3",
      "display_name": "Python 3"
    },
    "language_info": {
      "name": "python"
    }
  },
  "cells": [
    {
      "cell_type": "markdown",
      "metadata": {
        "id": "view-in-github",
        "colab_type": "text"
      },
      "source": [
        "<a href=\"https://colab.research.google.com/github/dineshRaja29/Pytorch-Tutorials/blob/main/DatasetClassNLP.ipynb\" target=\"_parent\"><img src=\"https://colab.research.google.com/assets/colab-badge.svg\" alt=\"Open In Colab\"/></a>"
      ]
    },
    {
      "cell_type": "code",
      "metadata": {
        "id": "lm2X0HGQK2MH"
      },
      "source": [
        "import torch"
      ],
      "execution_count": null,
      "outputs": []
    },
    {
      "cell_type": "code",
      "metadata": {
        "id": "aqLBG4BnLRbN"
      },
      "source": [
        "# classification problem or regression problem\n",
        "class CustomDataset:\n",
        "  \n",
        "  def __init__(self, data, targets, tokenizer):\n",
        "    self.data = data\n",
        "    self.targets = targets\n",
        "    self.tokenizer = tokenizer\n",
        "  \n",
        "  def __len__(self):\n",
        "    return len(self.data)\n",
        "\n",
        "  def __getitem__(self, idx):\n",
        "    text = self.data[idx]\n",
        "    if self.targets.shape[1] > 1:\n",
        "      target = self.targets[idx, :]\n",
        "    else:\n",
        "      target = self.targets[idx, :]\n",
        "    \n",
        "    input_ids = self.tokenizer(text)\n",
        "\n",
        "    return {\n",
        "      \"input_ids\": torch.tensor(input_ids, dtype = torch.long),\n",
        "      \"target\": torch.tensor(targets)\n",
        "    }  \n"
      ],
      "execution_count": null,
      "outputs": []
    },
    {
      "cell_type": "code",
      "metadata": {
        "id": "FHlNg5DJRX7k"
      },
      "source": [
        ""
      ],
      "execution_count": null,
      "outputs": []
    }
  ]
}