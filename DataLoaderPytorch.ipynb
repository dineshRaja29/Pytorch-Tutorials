{
  "nbformat": 4,
  "nbformat_minor": 0,
  "metadata": {
    "colab": {
      "name": "DataLoaderPytorch.ipynb",
      "provenance": [],
      "authorship_tag": "ABX9TyNywugif0bTKCtrgoWLv0h6",
      "include_colab_link": true
    },
    "kernelspec": {
      "name": "python3",
      "display_name": "Python 3"
    },
    "language_info": {
      "name": "python"
    }
  },
  "cells": [
    {
      "cell_type": "markdown",
      "metadata": {
        "id": "view-in-github",
        "colab_type": "text"
      },
      "source": [
        "<a href=\"https://colab.research.google.com/github/dineshRaja29/Pytorch-Tutorials/blob/main/DataLoaderPytorch.ipynb\" target=\"_parent\"><img src=\"https://colab.research.google.com/assets/colab-badge.svg\" alt=\"Open In Colab\"/></a>"
      ]
    },
    {
      "cell_type": "code",
      "metadata": {
        "id": "E_PuQqC6EutL"
      },
      "source": [
        "from sklearn.datasets import make_classification\n",
        "import torch"
      ],
      "execution_count": null,
      "outputs": []
    },
    {
      "cell_type": "code",
      "metadata": {
        "id": "4QsIkk3hFEOq"
      },
      "source": [
        "class CustomData:\n",
        "  \n",
        "  def __init__(self, data, targets):\n",
        "    self.data = data\n",
        "    self.targets = targets\n",
        "  \n",
        "  def __len__(self):\n",
        "    # return len(data)\n",
        "    # or\n",
        "    return data.shape[0]\n",
        "\n",
        "  def __getitem__(self, idx):\n",
        "    current_sample = self.data[idx, :]\n",
        "    current_target = self.targets[idx]\n",
        "    return {\n",
        "            \"sample\": torch.tensor(current_sample, dtype = torch.float),\n",
        "            \"target\": torch.tensor(current_target, dtype = torch.long)\n",
        "            }\n",
        " \n",
        "\n"
      ],
      "execution_count": null,
      "outputs": []
    },
    {
      "cell_type": "code",
      "metadata": {
        "id": "1NFLVqsUFGV_"
      },
      "source": [
        "?make_classification"
      ],
      "execution_count": null,
      "outputs": []
    },
    {
      "cell_type": "code",
      "metadata": {
        "id": "KIayEF8iFIfr"
      },
      "source": [
        "data, targets = make_classification(n_samples=1000)"
      ],
      "execution_count": null,
      "outputs": []
    },
    {
      "cell_type": "code",
      "metadata": {
        "id": "cgc876trE1Li"
      },
      "source": [
        "trainingdataset = CustomData(data, targets)"
      ],
      "execution_count": null,
      "outputs": []
    },
    {
      "cell_type": "code",
      "metadata": {
        "colab": {
          "base_uri": "https://localhost:8080/"
        },
        "id": "vlzSROeSFWFo",
        "outputId": "70d7153a-be24-49a2-a547-f50649d52610"
      },
      "source": [
        "len(trainingdataset)"
      ],
      "execution_count": null,
      "outputs": [
        {
          "output_type": "execute_result",
          "data": {
            "text/plain": [
              "1000"
            ]
          },
          "metadata": {
            "tags": []
          },
          "execution_count": 54
        }
      ]
    },
    {
      "cell_type": "code",
      "metadata": {
        "id": "R6EmhwhyF2fr"
      },
      "source": [
        "?torch.utils.data.DataLoader"
      ],
      "execution_count": null,
      "outputs": []
    },
    {
      "cell_type": "code",
      "metadata": {
        "id": "u80wEVN_F-8j"
      },
      "source": [
        "train_loader = torch.utils.data.DataLoader(trainingdataset, batch_size= 32, num_workers=2)"
      ],
      "execution_count": null,
      "outputs": []
    },
    {
      "cell_type": "code",
      "metadata": {
        "colab": {
          "base_uri": "https://localhost:8080/"
        },
        "id": "ogwIgTu-GT9n",
        "outputId": "dc1721de-1e0b-49b2-b2c4-1af663ece39b"
      },
      "source": [
        "for data1 in train_loader:\n",
        "  print(data1[\"sample\"].shape)\n",
        "  print(data1[\"target\"].shape)\n",
        "  break"
      ],
      "execution_count": null,
      "outputs": [
        {
          "output_type": "stream",
          "text": [
            "torch.Size([32, 20])\n",
            "torch.Size([32])\n"
          ],
          "name": "stdout"
        }
      ]
    }
  ]
}