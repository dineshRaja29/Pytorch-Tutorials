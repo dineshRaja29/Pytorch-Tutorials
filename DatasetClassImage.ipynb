{
  "nbformat": 4,
  "nbformat_minor": 0,
  "metadata": {
    "colab": {
      "name": "DatasetClassImage.ipynb",
      "provenance": [],
      "authorship_tag": "ABX9TyMPqdvamnj0V6xVK10TG5jx",
      "include_colab_link": true
    },
    "kernelspec": {
      "name": "python3",
      "display_name": "Python 3"
    },
    "language_info": {
      "name": "python"
    }
  },
  "cells": [
    {
      "cell_type": "markdown",
      "metadata": {
        "id": "view-in-github",
        "colab_type": "text"
      },
      "source": [
        "<a href=\"https://colab.research.google.com/github/dineshRaja29/Pytorch-Tutorials/blob/main/DatasetClassImage.ipynb\" target=\"_parent\"><img src=\"https://colab.research.google.com/assets/colab-badge.svg\" alt=\"Open In Colab\"/></a>"
      ]
    },
    {
      "cell_type": "code",
      "metadata": {
        "id": "yxcd1XoHRlxS"
      },
      "source": [
        "import torch\n",
        "import cv2\n",
        "import numpy as np"
      ],
      "execution_count": null,
      "outputs": []
    },
    {
      "cell_type": "code",
      "metadata": {
        "colab": {
          "base_uri": "https://localhost:8080/",
          "height": 129
        },
        "id": "ApnTt1EoRsdw",
        "outputId": "1cc06e9c-c4fd-41b1-9044-f91541dcf685"
      },
      "source": [
        "class CustomDataset:\n",
        "  \n",
        "  def __init__(self, image_paths, targets, augmentations = None):\n",
        "    self.image_paths = image_paths\n",
        "    self.targets = targets\n",
        "    self.augmentations = augmentations\n",
        "\n",
        "  def __len__(self):\n",
        "    return len(self.image_paths)\n",
        "\n",
        "  def __getitem__(self):\n",
        "    target = self.target[idx]\n",
        "    image = cv2.imread(self.image_paths[idx])\n",
        "    image = cv2.cvtcolor(image, cv2.COLOR_BGR2RGB)\n",
        "    if self.augmentation is not None:\n",
        "      augmented = self.augmentations(image = image)\n",
        "      image = augmented[\"image\"]\n",
        "    image = np.transpose(image, (2,0,1)).astype(np.float32)\n",
        "\n",
        "    return {\n",
        "        \"image\" : torch.tensor(image)\n",
        "        \"target\": torch.tensor(target)\n",
        "    }"
      ],
      "execution_count": null,
      "outputs": [
        {
          "output_type": "error",
          "ename": "SyntaxError",
          "evalue": "ignored",
          "traceback": [
            "\u001b[0;36m  File \u001b[0;32m\"<ipython-input-4-3f08522fec35>\"\u001b[0;36m, line \u001b[0;32m3\u001b[0m\n\u001b[0;31m    def __init__(self, image_paths, targets, augmentations = None);\u001b[0m\n\u001b[0m                                                                  ^\u001b[0m\n\u001b[0;31mSyntaxError\u001b[0m\u001b[0;31m:\u001b[0m invalid syntax\n"
          ]
        }
      ]
    },
    {
      "cell_type": "code",
      "metadata": {
        "id": "26y1e0IJYtj9"
      },
      "source": [
        ""
      ],
      "execution_count": null,
      "outputs": []
    }
  ]
}