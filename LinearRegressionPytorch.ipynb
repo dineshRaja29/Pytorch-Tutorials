{
  "nbformat": 4,
  "nbformat_minor": 0,
  "metadata": {
    "colab": {
      "name": "LinearRegressionPytorch.ipynb",
      "provenance": [],
      "authorship_tag": "ABX9TyOxpYDbleokKhBw9KC6HBhw",
      "include_colab_link": true
    },
    "kernelspec": {
      "name": "python3",
      "display_name": "Python 3"
    },
    "language_info": {
      "name": "python"
    }
  },
  "cells": [
    {
      "cell_type": "markdown",
      "metadata": {
        "id": "view-in-github",
        "colab_type": "text"
      },
      "source": [
        "<a href=\"https://colab.research.google.com/github/dineshRaja29/Pytorch-Tutorials/blob/main/LinearRegressionPytorch.ipynb\" target=\"_parent\"><img src=\"https://colab.research.google.com/assets/colab-badge.svg\" alt=\"Open In Colab\"/></a>"
      ]
    },
    {
      "cell_type": "code",
      "metadata": {
        "id": "E_PuQqC6EutL"
      },
      "source": [
        "from sklearn.datasets import make_classification\n",
        "from sklearn.model_selection import train_test_split\n",
        "import torch"
      ],
      "execution_count": null,
      "outputs": []
    },
    {
      "cell_type": "code",
      "metadata": {
        "id": "4QsIkk3hFEOq"
      },
      "source": [
        "class CustomData:\n",
        "  \n",
        "  def __init__(self, data, targets):\n",
        "    self.data = data\n",
        "    self.targets = targets\n",
        "  \n",
        "  def __len__(self):\n",
        "    # return len(data)\n",
        "    # or\n",
        "    return data.shape[0]\n",
        "\n",
        "  def __getitem__(self, idx):\n",
        "    current_sample = self.data[idx, :]\n",
        "    current_target = self.targets[idx]\n",
        "    return {\n",
        "            \"sample\": torch.tensor(current_sample, dtype = torch.float),\n",
        "            \"target\": torch.tensor(current_target, dtype = torch.long)\n",
        "            }\n",
        " \n",
        "\n"
      ],
      "execution_count": null,
      "outputs": []
    },
    {
      "cell_type": "code",
      "metadata": {
        "id": "1NFLVqsUFGV_"
      },
      "source": [
        "?make_classification"
      ],
      "execution_count": null,
      "outputs": []
    },
    {
      "cell_type": "code",
      "metadata": {
        "id": "KIayEF8iFIfr"
      },
      "source": [
        "data, targets = make_classification(n_samples=1000)"
      ],
      "execution_count": null,
      "outputs": []
    },
    {
      "cell_type": "code",
      "metadata": {
        "id": "NGhi7bckXatL"
      },
      "source": [
        "traindata, testdata, trainlabel, testlabel = train_test_split(data, targets, stratify = targets)"
      ],
      "execution_count": null,
      "outputs": []
    },
    {
      "cell_type": "code",
      "metadata": {
        "colab": {
          "base_uri": "https://localhost:8080/"
        },
        "id": "MfjpSDp9YBEN",
        "outputId": "fb8bff11-db10-4168-d4e1-9fd316f92bf9"
      },
      "source": [
        "print(traindata.shape)\n",
        "print(testdata.shape)"
      ],
      "execution_count": null,
      "outputs": [
        {
          "output_type": "stream",
          "text": [
            "(750, 20)\n",
            "(250, 20)\n"
          ],
          "name": "stdout"
        }
      ]
    },
    {
      "cell_type": "code",
      "metadata": {
        "id": "E_tFAbiKYL6X"
      },
      "source": [
        "train_dataset = CustomData(traindata, trainlabel)\n",
        "test_dataset = CustomData(testdata, testlabel)"
      ],
      "execution_count": null,
      "outputs": []
    },
    {
      "cell_type": "code",
      "metadata": {
        "id": "cH9Gd1aqYoXV"
      },
      "source": [
        "train_loader = torch.utils.data.DataLoader(train_dataset, batch_size = 8, num_workers=2)\n",
        "test_loader = torch.utils.data.DataLoader(test_dataset, batch_size = 8, num_workers=2)"
      ],
      "execution_count": null,
      "outputs": []
    },
    {
      "cell_type": "code",
      "metadata": {
        "id": "5OYR-IOYZI2w"
      },
      "source": [
        "model = lambda x, w, b: torch.matmul(x, w) + b"
      ],
      "execution_count": null,
      "outputs": []
    },
    {
      "cell_type": "code",
      "metadata": {
        "id": "kvIPgp2zZhqX",
        "colab": {
          "base_uri": "https://localhost:8080/"
        },
        "outputId": "dcb893ae-1942-4761-e82f-9c987b1563ce"
      },
      "source": [
        "model"
      ],
      "execution_count": null,
      "outputs": [
        {
          "output_type": "execute_result",
          "data": {
            "text/plain": [
              "<function __main__.<lambda>>"
            ]
          },
          "metadata": {
            "tags": []
          },
          "execution_count": 12
        }
      ]
    },
    {
      "cell_type": "code",
      "metadata": {
        "id": "3VMIrLkkZlHb"
      },
      "source": [
        ""
      ],
      "execution_count": null,
      "outputs": []
    }
  ]
}